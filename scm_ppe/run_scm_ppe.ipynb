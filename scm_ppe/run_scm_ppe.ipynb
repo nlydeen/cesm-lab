{
 "cells": [
  {
   "cell_type": "markdown",
   "metadata": {},
   "source": [
    "# Assessing parameter importance in CAM6 with machine learning and a single-column perturbed-physics ensemble\n",
    "\n",
    "Nikki Lydeen\n",
    "\n",
    "Graduate Research Assistant, Climate Dynamics\n",
    "\n",
    "Dept. of Atmospheric, Oceanic, and Earth Sciences\n",
    "\n",
    "George Mason University, Fairfax VA 22030"
   ]
  },
  {
   "cell_type": "code",
   "execution_count": null,
   "metadata": {},
   "outputs": [],
   "source": [
    "!pip install SobolSequence==0.2 > /dev/null\n",
    "\n",
    "from os import chdir, getcwd\n",
    "from os.path import abspath\n",
    "from sys import path\n",
    "\n",
    "chdir(\"/home/user/scm_ppe\")\n",
    "path.append(getcwd())\n",
    "from run_scm_ppe import *"
   ]
  },
  {
   "cell_type": "markdown",
   "metadata": {},
   "source": [
    "### Specify the intensive observation periods (IOPs) and the parameter space"
   ]
  },
  {
   "cell_type": "code",
   "execution_count": null,
   "metadata": {},
   "outputs": [],
   "source": [
    "# A. Gettelman, et al. The Single Column Atmosphere Model Version 6 (SCAM6)\n",
    "# https://agupubs.onlinelibrary.wiley.com/doi/10.1029/2018MS001578\n",
    "iops = [ \"arm97\"      # ARM Southern Great Plains       Land convection\n",
    "       , \"cgilsS6\"    # ------------- \" -------------   Shallow cumulus\n",
    "       , \"cgilsS11\"   # CFMIP‐GASS SCM/LES Intercomp.   Stratocumulus\n",
    "       , \"cgilsS12\"   # ------------- \" -------------   Stratus\n",
    "       , \"mpace\"      # Mixed Phase Arctic Clouds Exp.  Arctic\n",
    "       , \"sparticus\"  # Small Particles in Cirrus       Cirrus, convection\n",
    "       , \"twp06\"      # Tropical convection\n",
    "       ]\n",
    "\n",
    "# H. Zhang, et al. Low‐cloud feedback in CAM5‐CLUBB\n",
    "# https://agupubs.onlinelibrary.wiley.com/doi/full/10.1029/2018MS001423\n",
    "param_space = { \"clubb_C1\"         : ( 1.25   ,  5.   )\n",
    "              , \"clubb_C2rt\"       : ( 0.5    ,  2.   )\n",
    "             #, \"clubb_C6rt\"       : ( 3.     ,  8.   )\n",
    "             #, \"clubb_C6rtb\"      : ( 3.     ,  8.   )\n",
    "              , \"clubb_C7\"         : ( 0.25   ,  1.   )\n",
    "              , \"clubb_C7b\"        : ( 0.25   ,  1.   )\n",
    "              , \"clubb_C8\"         : ( 1.5    ,  6.   )\n",
    "              , \"clubb_C11\"        : ( 0.     ,  1.   )\n",
    "              , \"clubb_C11b\"       : ( 0.     ,  1.   )\n",
    "              , \"clubb_C14\"        : ( 1.     ,  2.   )\n",
    "             #, \"clubb_nu\"         : (10.     , 40.   )\n",
    "              , \"clubb_beta\"       : ( 0.     ,  3.   )\n",
    "              , \"clubb_gamma_coef\" : ( 0.1    ,  0.6  )\n",
    "             #, \"clubb_mu\"         : ( 0.0005 ,  0.002)\n",
    "              }\n",
    "\n",
    "n_samples = 512"
   ]
  },
  {
   "cell_type": "markdown",
   "metadata": {},
   "source": [
    "### Integrate a quasirandom single-column perturbed-physics ensemble."
   ]
  },
  {
   "cell_type": "code",
   "execution_count": null,
   "metadata": {},
   "outputs": [],
   "source": [
    "cases = plan_cases(iops, param_space, n_samples)\n",
    "display(cases)\n",
    "\n",
    "run_cases(cases)"
   ]
  },
  {
   "cell_type": "code",
   "execution_count": null,
   "metadata": {},
   "outputs": [],
   "source": []
  }
 ],
 "metadata": {
  "kernelspec": {
   "display_name": "Python 3",
   "language": "python",
   "name": "python3"
  },
  "language_info": {
   "codemirror_mode": {
    "name": "ipython",
    "version": 3
   },
   "file_extension": ".py",
   "mimetype": "text/x-python",
   "name": "python",
   "nbconvert_exporter": "python",
   "pygments_lexer": "ipython3",
   "version": "3.7.8"
  }
 },
 "nbformat": 4,
 "nbformat_minor": 4
}
