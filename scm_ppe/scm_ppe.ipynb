{
 "cells": [
  {
   "cell_type": "markdown",
   "metadata": {},
   "source": [
    "# Single-column model (SCM) perturbed-physics ensemble (PPE) executor"
   ]
  },
  {
   "cell_type": "code",
   "execution_count": null,
   "metadata": {
    "jupyter": {
     "source_hidden": true
    }
   },
   "outputs": [],
   "source": [
    "!pip install SobolSequence==0.2 > /dev/null\n",
    "\n",
    "import pandas as pd\n",
    "\n",
    "from itertools import product\n",
    "from multiprocessing import Pool\n",
    "from os.path import exists\n",
    "from shutil import rmtree\n",
    "from sobol import sample as sobol\n",
    "from subprocess import call\n",
    "from tqdm.notebook import tqdm\n",
    "from xarray import open_mfdataset\n",
    "\n",
    "\n",
    "CESM_ROOT = \"/opt/ncar/cesm2\"\n",
    "\n",
    "SCRIPT_DIR = f\"{CESM_ROOT}/cime/scripts\"\n",
    "MODS_DIR = f\"{CESM_ROOT}/components/cam/cime_config/usermods_dirs\"\n",
    "\n",
    "CASE_ROOT = \"/tmp/cases\"\n",
    "ARCHIVE_ROOT = \"/home/user/archive\"\n",
    "\n",
    "IOP_CASE_DIR = f\"{CASE_ROOT}/scm_ppe.base\""
   ]
  },
  {
   "cell_type": "code",
   "execution_count": null,
   "metadata": {},
   "outputs": [],
   "source": [
    "# Intensive observation periods (IOPs).\n",
    "# https://agupubs.onlinelibrary.wiley.com/doi/10.1029/2018MS001578\n",
    "iops = [ \"arm97\"      # ARM Southern Great Plains         Land convection\n",
    "       , \"cgilsS6\"    # CFMIP‐GASS SCM/LES Intercomp.     Shallow cumulus\n",
    "       , \"cgilsS11\"   # ------------- \" -------------     Stratocumulus\n",
    "       , \"cgilsS12\"   # ------------- \" -------------     Stratus\n",
    "       , \"mpace\"      # Mixed Phase Arctic Clouds Exp.    Arctic\n",
    "       , \"sparticus\"  # Small Particles in Cirrus         Cirrus, convection\n",
    "       , \"twp06\"      # Tropical W. Pacific Convection    Tropical convection\n",
    "       ]\n",
    "\n",
    "# Parameter space.\n",
    "# https://arxiv.org/abs/1711.03675\n",
    "param_space = { \"clubb_gamma_coef\" : ( 0.25 ,  0.36 )\n",
    "              , \"clubb_beta\"       : ( 1.2  ,  2.6  )\n",
    "              , \"clubb_C8\"         : ( 1.5  ,  6.   )\n",
    "              , \"clubb_C11\"        : ( 0.2  ,  0.8  )\n",
    "              , \"clubb_C11b\"       : ( 0.2  ,  0.8  )\n",
    "             #, \"clubb_penguin\"    : ( 0.69 ,  4.20 )  # kek\n",
    "              }\n",
    "\n",
    "# Number of quasirandom samples per IOP.\n",
    "n_samples = 128\n",
    "\n",
    "# Number of parallel jobs.\n",
    "n_jobs = 8"
   ]
  },
  {
   "cell_type": "code",
   "execution_count": null,
   "metadata": {
    "jupyter": {
     "source_hidden": true
    }
   },
   "outputs": [],
   "source": [
    "def quasirandom_sample(iops, space, n):\n",
    "    sample = sobol(len(space), n)\n",
    "\n",
    "    for column, bounds in zip(sample.T, space.values()):\n",
    "        low, high = bounds\n",
    "        column *= high - low\n",
    "        column += low\n",
    "\n",
    "    return [dict(zip(space.keys(), x)) for x in sample]\n",
    "\n",
    "\n",
    "def plan_cases(iops, param_space, n_cases):\n",
    "    cases = product(quasirandom_sample(iops, param_space, n_cases), iops)\n",
    "\n",
    "    df = pd.DataFrame([{\"iop\": iop, **params} for params, iop in cases])\n",
    "    df.insert(0, \"name\", [f\"scm_ppe.{str(x).rjust(4, '0')}\"\n",
    "                          for x in df.index])\n",
    "\n",
    "    return df\n",
    "\n",
    "\n",
    "def run_case(config):\n",
    "    name, iop = config[\"name\"], config[\"iop\"]\n",
    "    del config[\"name\"], config[\"iop\"]\n",
    "\n",
    "    case_dir = f\"{CASE_ROOT}/{name}\"\n",
    "\n",
    "    if not exists(f\"{ARCHIVE_ROOT}/{name}\"):\n",
    "        rmtree(case_dir, ignore_errors=True)\n",
    "\n",
    "        assert call([f\"{SCRIPT_DIR}/create_clone\",\n",
    "                     \"--clone\", IOP_CASE_DIR,\n",
    "                     \"--user-mods-dir\", f\"{MODS_DIR}/scam_{iop}\",\n",
    "                     \"--keepexe\",\n",
    "                     \"--cime-output-root\", case_dir,\n",
    "                     \"--case\", case_dir]) == 0\n",
    "\n",
    "        with open(f\"{case_dir}/user_nl_cam\", \"a\") as f:\n",
    "            print(\"nhtfrq = -24\", file=f)\n",
    "\n",
    "            for k, v in dict(config).items():\n",
    "                print(f\"{k} = {v}\", file=f)\n",
    "\n",
    "        assert call(\"./case.submit\", cwd=case_dir) == 0\n",
    "\n",
    "        rmtree(case_dir, ignore_errors=True)\n",
    "\n",
    "\n",
    "def run_cases(df, n_jobs=None):\n",
    "    configs = [dict(x[1]) for x in df.iterrows()]\n",
    "\n",
    "    if not exists(f\"{IOP_CASE_DIR}/bld/cesm.exe\"):\n",
    "        rmtree(IOP_CASE_DIR, ignore_errors=True)\n",
    "\n",
    "        assert call([f\"{SCRIPT_DIR}/create_newcase\",\n",
    "                      \"--compset\", \"FSCAM\",\n",
    "                      \"--res\", \"T42_T42\",\n",
    "                      \"--user-mods-dir\", f\"{MODS_DIR}/scam_mandatory\",\n",
    "                      \"--case\", IOP_CASE_DIR]) == 0\n",
    "\n",
    "        assert call(\"./case.setup\", cwd=IOP_CASE_DIR) == 0\n",
    "        assert call(\"./case.build\", cwd=IOP_CASE_DIR) == 0\n",
    "\n",
    "    with Pool(n_jobs) as p:\n",
    "        for _ in tqdm(p.imap_unordered(run_case, configs), total=len(configs),\n",
    "                      mininterval=0., miniters=1):\n",
    "            pass"
   ]
  },
  {
   "cell_type": "code",
   "execution_count": null,
   "metadata": {},
   "outputs": [],
   "source": [
    "cases = plan_cases(iops, param_space, n_samples)\n",
    "display(cases)\n",
    "\n",
    "run_cases(cases, n_jobs)\n",
    "\n",
    "cases.to_csv(\"cases.csv\", index=False)"
   ]
  },
  {
   "cell_type": "code",
   "execution_count": null,
   "metadata": {},
   "outputs": [],
   "source": []
  }
 ],
 "metadata": {
  "kernelspec": {
   "display_name": "Python 3",
   "language": "python",
   "name": "python3"
  },
  "language_info": {
   "codemirror_mode": {
    "name": "ipython",
    "version": 3
   },
   "file_extension": ".py",
   "mimetype": "text/x-python",
   "name": "python",
   "nbconvert_exporter": "python",
   "pygments_lexer": "ipython3",
   "version": "3.7.8"
  }
 },
 "nbformat": 4,
 "nbformat_minor": 4
}
